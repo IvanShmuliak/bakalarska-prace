{
 "cells": [
  {
   "cell_type": "code",
   "id": "initial_id",
   "metadata": {
    "collapsed": true,
    "ExecuteTime": {
     "end_time": "2025-03-06T18:32:20.254584Z",
     "start_time": "2025-03-06T18:32:20.249574Z"
    }
   },
   "source": [
    "import pandas as pd\n",
    "import numpy as np"
   ],
   "outputs": [],
   "execution_count": 1622
  },
  {
   "metadata": {
    "ExecuteTime": {
     "end_time": "2025-03-06T18:32:20.284611Z",
     "start_time": "2025-03-06T18:32:20.262858Z"
    }
   },
   "cell_type": "code",
   "source": "df = pd.read_csv(\"../data/raw_data/cars.csv\")",
   "id": "60a0ed743dde263f",
   "outputs": [],
   "execution_count": 1623
  },
  {
   "metadata": {
    "ExecuteTime": {
     "end_time": "2025-03-06T18:32:20.370263Z",
     "start_time": "2025-03-06T18:32:20.354545Z"
    }
   },
   "cell_type": "code",
   "source": [
    "df = df.rename(columns={\"Vykon\": \"Vykon (koni)\"})\n",
    "df[\"Vykon (koni)\"] = df[\"Vykon (koni)\"].str.extract(r\"(\\d{2,3})(?=\\s?PS\\b)\", expand=False)\n",
    "df[\"Vykon (koni)\"] = pd.to_numeric(df[\"Vykon (koni)\"], errors=\"coerce\").astype(\"Int64\")\n",
    "print(df[\"Vykon (koni)\"].describe())"
   ],
   "id": "fc3bf8657132b87e",
   "outputs": [
    {
     "name": "stdout",
     "output_type": "stream",
     "text": [
      "count        4036.0\n",
      "mean     280.266105\n",
      "std       124.87702\n",
      "min            30.0\n",
      "25%           190.0\n",
      "50%           265.0\n",
      "75%           340.0\n",
      "max           761.0\n",
      "Name: Vykon (koni), dtype: Float64\n"
     ]
    }
   ],
   "execution_count": 1624
  },
  {
   "metadata": {
    "ExecuteTime": {
     "end_time": "2025-03-06T18:32:20.391871Z",
     "start_time": "2025-03-06T18:32:20.381165Z"
    }
   },
   "cell_type": "code",
   "source": [
    "df = df.rename(columns={\"Objem motoru\": \"Objem motoru (cm³)\"})\n",
    "df[\"Objem motoru (cm³)\"] = df[\"Objem motoru (cm³)\"].str.extract(r\"(\\d*\\s?\\d{1,3}(?=\\s?cm³\\b))\", expand=False).str.replace(\" \", \"\")\n",
    "df[\"Objem motoru (cm³)\"] = pd.to_numeric(df[\"Objem motoru (cm³)\"], errors=\"coerce\").astype(\"Int64\")\n",
    "print(df[\"Objem motoru (cm³)\"].describe())"
   ],
   "id": "e2cbc0b1a3ecef14",
   "outputs": [
    {
     "name": "stdout",
     "output_type": "stream",
     "text": [
      "count         3791.0\n",
      "mean     2540.295964\n",
      "std       796.804958\n",
      "min              1.0\n",
      "25%           1995.0\n",
      "50%           2979.0\n",
      "75%           2993.0\n",
      "max           6592.0\n",
      "Name: Objem motoru (cm³), dtype: Float64\n"
     ]
    }
   ],
   "execution_count": 1625
  },
  {
   "metadata": {
    "ExecuteTime": {
     "end_time": "2025-03-06T18:32:20.412697Z",
     "start_time": "2025-03-06T18:32:20.403048Z"
    }
   },
   "cell_type": "code",
   "source": [
    "df[\"Pocet dveri\"] = df[\"Pocet dveri\"].str.extract(r\"(\\d*(?=\\s?dveř.?\\b))\", expand=False)\n",
    "df[\"Pocet dveri\"] = pd.to_numeric(df[\"Pocet dveri\"], errors=\"coerce\").astype(\"Int64\")\n",
    "print(df[\"Pocet dveri\"].describe())"
   ],
   "id": "79dc075b0710373e",
   "outputs": [
    {
     "name": "stdout",
     "output_type": "stream",
     "text": [
      "count      3903.0\n",
      "mean     4.624648\n",
      "std      0.771266\n",
      "min           2.0\n",
      "25%           5.0\n",
      "50%           5.0\n",
      "75%           5.0\n",
      "max           5.0\n",
      "Name: Pocet dveri, dtype: Float64\n"
     ]
    }
   ],
   "execution_count": 1626
  },
  {
   "metadata": {
    "ExecuteTime": {
     "end_time": "2025-03-06T18:32:20.433023Z",
     "start_time": "2025-03-06T18:32:20.423232Z"
    }
   },
   "cell_type": "code",
   "source": [
    "df[\"Pocet mist\"] = df[\"Pocet mist\"].str.extract(r\"(\\d*(?=\\s?míst.?\\b))\", expand=False)\n",
    "df[\"Pocet mist\"] = pd.to_numeric(df[\"Pocet mist\"], errors=\"coerce\").astype(\"Int64\")\n",
    "print(df[\"Pocet mist\"].describe())"
   ],
   "id": "29d506b90716a389",
   "outputs": [
    {
     "name": "stdout",
     "output_type": "stream",
     "text": [
      "count      3893.0\n",
      "mean     4.942461\n",
      "std      0.601709\n",
      "min           2.0\n",
      "25%           5.0\n",
      "50%           5.0\n",
      "75%           5.0\n",
      "max           7.0\n",
      "Name: Pocet mist, dtype: Float64\n"
     ]
    }
   ],
   "execution_count": 1627
  },
  {
   "metadata": {
    "ExecuteTime": {
     "end_time": "2025-03-06T18:32:20.458036Z",
     "start_time": "2025-03-06T18:32:20.447279Z"
    }
   },
   "cell_type": "code",
   "source": [
    "df = df.rename(columns={\"Najezd\": \"Najezd (km)\"})\n",
    "df[\"Najezd (km)\"] = df[\"Najezd (km)\"].str.extract(r\"(\\d*(?=km\\b))\", expand=False)\n",
    "df[\"Najezd (km)\"] = pd.to_numeric(df[\"Najezd (km)\"], errors=\"coerce\").astype(\"Int64\")\n",
    "print(df[\"Najezd (km)\"].describe())"
   ],
   "id": "610e09f4741f3290",
   "outputs": [
    {
     "name": "stdout",
     "output_type": "stream",
     "text": [
      "count          3876.0\n",
      "mean      86487.26419\n",
      "std      86714.845956\n",
      "min               1.0\n",
      "25%           17074.0\n",
      "50%           51776.5\n",
      "75%          147000.0\n",
      "max          559741.0\n",
      "Name: Najezd (km), dtype: Float64\n"
     ]
    }
   ],
   "execution_count": 1628
  },
  {
   "metadata": {
    "ExecuteTime": {
     "end_time": "2025-03-06T18:32:20.478078Z",
     "start_time": "2025-03-06T18:32:20.468191Z"
    }
   },
   "cell_type": "code",
   "source": [
    "df = df.rename(columns={\"Cena\": \"Cena (Kc)\"})\n",
    "df[\"Cena (Kc)\"] = df[\"Cena (Kc)\"].str.replace(\" \", \"\")\n",
    "df[\"Cena (Kc)\"] = df[\"Cena (Kc)\"].str.extract(r\"(\\d*(?=Kč\\b))\", expand=False)\n",
    "df[\"Cena (Kc)\"] = pd.to_numeric(df[\"Cena (Kc)\"], errors=\"coerce\").astype(\"Int64\")\n",
    "print(df[\"Cena (Kc)\"].describe())"
   ],
   "id": "f1faa9ee786e69ae",
   "outputs": [
    {
     "name": "stdout",
     "output_type": "stream",
     "text": [
      "count            4036.0\n",
      "mean     1226376.974727\n",
      "std       883269.962346\n",
      "min              4200.0\n",
      "25%            499000.0\n",
      "50%           1145000.0\n",
      "75%           1696708.5\n",
      "max          10999000.0\n",
      "Name: Cena (Kc), dtype: Float64\n"
     ]
    }
   ],
   "execution_count": 1629
  },
  {
   "metadata": {
    "ExecuteTime": {
     "end_time": "2025-03-06T18:32:20.552198Z",
     "start_time": "2025-03-06T18:32:20.541423Z"
    }
   },
   "cell_type": "code",
   "source": [
    "df[\"Model Auta\"] = df[\"Model Auta\"].str.replace(\"BMW \", \"\")\n",
    "df[\"Model Auta\"] = df[\"Model Auta\"].astype(\"category\")\n",
    "print(df[\"Model Auta\"].describe())\n",
    "df[\"Model Auta\"].cat.categories"
   ],
   "id": "4ab50408c4a9590f",
   "outputs": [
    {
     "name": "stdout",
     "output_type": "stream",
     "text": [
      "count       4058\n",
      "unique        34\n",
      "top       Řada 5\n",
      "freq         592\n",
      "Name: Model Auta, dtype: object\n"
     ]
    },
    {
     "data": {
      "text/plain": [
       "Index(['M2', 'M3', 'M4', 'M5', 'M6', 'M8', 'Ostatní', 'X1', 'X2', 'X3', 'X4',\n",
       "       'X5', 'X6', 'X7', 'XM', 'Z3', 'Z4', 'i3', 'i4', 'i5', 'i7', 'i8', 'iX',\n",
       "       'iX1', 'iX2', 'iX3', 'Řada 1', 'Řada 2', 'Řada 3', 'Řada 4', 'Řada 5',\n",
       "       'Řada 6', 'Řada 7', 'Řada 8'],\n",
       "      dtype='object')"
      ]
     },
     "execution_count": 1630,
     "metadata": {},
     "output_type": "execute_result"
    }
   ],
   "execution_count": 1630
  },
  {
   "metadata": {
    "ExecuteTime": {
     "end_time": "2025-03-06T18:32:20.587451Z",
     "start_time": "2025-03-06T18:32:20.579429Z"
    }
   },
   "cell_type": "code",
   "source": [
    "df[\"Stav\"] = df[\"Stav\"].astype(\"category\")\n",
    "print(df[\"Stav\"].describe())\n",
    "df[\"Stav\"].cat.categories"
   ],
   "id": "83aab6643cc54c3e",
   "outputs": [
    {
     "name": "stdout",
     "output_type": "stream",
     "text": [
      "count          4058\n",
      "unique            8\n",
      "top       Perfektní\n",
      "freq           1631\n",
      "Name: Stav, dtype: object\n"
     ]
    },
    {
     "data": {
      "text/plain": [
       "Index(['Dobrý', 'Nové vozidlo', 'Perfektní', 'Předváděcí vozidlo',\n",
       "       'Uspokojivý', 'Velmi dobrý', 'Způsobilý k provozu', 'neuvedeno'],\n",
       "      dtype='object')"
      ]
     },
     "execution_count": 1631,
     "metadata": {},
     "output_type": "execute_result"
    }
   ],
   "execution_count": 1631
  },
  {
   "metadata": {
    "ExecuteTime": {
     "end_time": "2025-03-06T18:32:20.620085Z",
     "start_time": "2025-03-06T18:32:20.613893Z"
    }
   },
   "cell_type": "code",
   "source": [
    "df[\"Typ paliva\"] = df[\"Typ paliva\"].astype(\"category\")\n",
    "print(df[\"Typ paliva\"].describe())\n",
    "df[\"Typ paliva\"].cat.categories"
   ],
   "id": "fcd6cb2e437f36dd",
   "outputs": [
    {
     "name": "stdout",
     "output_type": "stream",
     "text": [
      "count      4058\n",
      "unique        6\n",
      "top       nafta\n",
      "freq       2236\n",
      "Name: Typ paliva, dtype: object\n"
     ]
    },
    {
     "data": {
      "text/plain": [
       "Index(['benzin', 'elektro', 'hybridní - benzin', 'hybridní - nafta', 'nafta',\n",
       "       'neuvedeno'],\n",
       "      dtype='object')"
      ]
     },
     "execution_count": 1632,
     "metadata": {},
     "output_type": "execute_result"
    }
   ],
   "execution_count": 1632
  },
  {
   "metadata": {
    "ExecuteTime": {
     "end_time": "2025-03-06T18:32:20.664500Z",
     "start_time": "2025-03-06T18:32:20.658579Z"
    }
   },
   "cell_type": "code",
   "source": [
    "df[\"Typ prevodovky\"] = df[\"Typ prevodovky\"].astype(\"category\")\n",
    "print(df[\"Typ prevodovky\"].describe())\n",
    "df[\"Typ prevodovky\"].cat.categories"
   ],
   "id": "7ffc0081c57e95e7",
   "outputs": [
    {
     "name": "stdout",
     "output_type": "stream",
     "text": [
      "count                4058\n",
      "unique                  4\n",
      "top       aut. převodovka\n",
      "freq                 3327\n",
      "Name: Typ prevodovky, dtype: object\n"
     ]
    },
    {
     "data": {
      "text/plain": [
       "Index(['aut. převodovka', 'manuální převodovka', 'neuvedeno',\n",
       "       'poloaut. převodovka'],\n",
       "      dtype='object')"
      ]
     },
     "execution_count": 1633,
     "metadata": {},
     "output_type": "execute_result"
    }
   ],
   "execution_count": 1633
  },
  {
   "metadata": {
    "ExecuteTime": {
     "end_time": "2025-03-06T18:32:20.688670Z",
     "start_time": "2025-03-06T18:32:20.682543Z"
    }
   },
   "cell_type": "code",
   "source": [
    "df[\"Typ karoserie\"] = df[\"Typ karoserie\"].astype(\"category\")\n",
    "print(df[\"Typ karoserie\"].describe())\n",
    "df[\"Typ karoserie\"].cat.categories"
   ],
   "id": "6c41ac8c62c0eb98",
   "outputs": [
    {
     "name": "stdout",
     "output_type": "stream",
     "text": [
      "count     4058\n",
      "unique      11\n",
      "top        SUV\n",
      "freq      1600\n",
      "Name: Typ karoserie, dtype: object\n"
     ]
    },
    {
     "data": {
      "text/plain": [
       "Index(['MPV', 'SUV', 'VAN', 'hatchback', 'kabriolet', 'kombi', 'kupé',\n",
       "       'liftback', 'limuzína', 'neuvedeno', 'sedan'],\n",
       "      dtype='object')"
      ]
     },
     "execution_count": 1634,
     "metadata": {},
     "output_type": "execute_result"
    }
   ],
   "execution_count": 1634
  },
  {
   "metadata": {
    "ExecuteTime": {
     "end_time": "2025-03-06T18:32:20.715076Z",
     "start_time": "2025-03-06T18:32:20.705522Z"
    }
   },
   "cell_type": "code",
   "source": [
    "df[\"Barva exterieru\"] =df[\"Barva exterieru\"].replace(\"neuvedeno\", np.nan)\n",
    "df[\"Metaliza\"] = df[\"Barva exterieru\"].str.contains(r\"\\b(?:\\w+\\s)*metalíza\\b\", regex = True)\n",
    "df.insert(15, \"Metaliza\", df.pop(\"Metaliza\"))\n",
    "print(df[\"Metaliza\"].describe()) #Nevim, co delat s NaN"
   ],
   "id": "39d534689ca31610",
   "outputs": [
    {
     "name": "stdout",
     "output_type": "stream",
     "text": [
      "count     3991\n",
      "unique       2\n",
      "top       True\n",
      "freq      2082\n",
      "Name: Metaliza, dtype: object\n"
     ]
    }
   ],
   "execution_count": 1635
  },
  {
   "metadata": {
    "ExecuteTime": {
     "end_time": "2025-03-06T18:32:20.751083Z",
     "start_time": "2025-03-06T18:32:20.744627Z"
    }
   },
   "cell_type": "code",
   "source": [
    "df[\"Barva exterieru\"] = df[\"Barva exterieru\"].str.replace(\" metalíza\", \"\")\n",
    "df[\"Barva exterieru\"] = df[\"Barva exterieru\"].astype(\"category\")\n",
    "print(df[\"Barva exterieru\"].describe())\n",
    "df[\"Barva exterieru\"].cat.categories"
   ],
   "id": "3fc508acf50b6623",
   "outputs": [
    {
     "name": "stdout",
     "output_type": "stream",
     "text": [
      "count      3991\n",
      "unique       23\n",
      "top       černá\n",
      "freq       1087\n",
      "Name: Barva exterieru, dtype: object\n"
     ]
    },
    {
     "data": {
      "text/plain": [
       "Index(['béžová', 'bílá', 'fialová', 'hnědá', 'modrá', 'oranžová', 'stříbrná',\n",
       "       'světle hnědá', 'světle modrá', 'světle zelená', 'světle šedá',\n",
       "       'tmavě hnědá', 'tmavě modrá', 'tmavě zelená', 'tmavě červená',\n",
       "       'tmavě šedá', 'vínová', 'zelená', 'zlatá', 'černá', 'červená', 'šedá',\n",
       "       'žlutá'],\n",
       "      dtype='object')"
      ]
     },
     "execution_count": 1636,
     "metadata": {},
     "output_type": "execute_result"
    }
   ],
   "execution_count": 1636
  },
  {
   "metadata": {
    "ExecuteTime": {
     "end_time": "2025-03-06T18:32:20.821832Z",
     "start_time": "2025-03-06T18:32:20.817439Z"
    }
   },
   "cell_type": "code",
   "source": [
    "print(df[\"Stk\"].describe())\n",
    "del df[\"Stk\"]"
   ],
   "id": "7b49c16e15d8050d",
   "outputs": [
    {
     "name": "stdout",
     "output_type": "stream",
     "text": [
      "count          4058\n",
      "unique           79\n",
      "top       neuvedeno\n",
      "freq           1982\n",
      "Name: Stk, dtype: object\n"
     ]
    }
   ],
   "execution_count": 1637
  },
  {
   "metadata": {
    "ExecuteTime": {
     "end_time": "2025-03-06T18:32:20.924256Z",
     "start_time": "2025-03-06T18:32:20.897827Z"
    }
   },
   "cell_type": "code",
   "source": [
    "df = df.rename(columns={\"Datum registrace\": \"Rok registrace\"})\n",
    "df[\"Rok registrace\"] = df[\"Rok registrace\"].str.extract(r\"(\\d{4})\", expand=False)\n",
    "df[\"Rok registrace\"] = pd.to_datetime(df[\"Rok registrace\"], format=\"%Y\")\n",
    "df[\"Rok registrace\"] = df[\"Rok registrace\"].dt.strftime(\"%Y\")\n",
    "print(df[\"Rok registrace\"].describe())"
   ],
   "id": "b9d6878060e9aa63",
   "outputs": [
    {
     "name": "stdout",
     "output_type": "stream",
     "text": [
      "count     4005\n",
      "unique      45\n",
      "top       2024\n",
      "freq       900\n",
      "Name: Rok registrace, dtype: object\n"
     ]
    }
   ],
   "execution_count": 1638
  },
  {
   "metadata": {},
   "cell_type": "code",
   "outputs": [],
   "execution_count": null,
   "source": "",
   "id": "c00b385f5091ab1d"
  },
  {
   "metadata": {
    "ExecuteTime": {
     "end_time": "2025-03-06T18:32:20.945284Z",
     "start_time": "2025-03-06T18:32:20.934849Z"
    }
   },
   "cell_type": "code",
   "source": [
    "print(df.info())\n",
    "print(df.head(25))"
   ],
   "id": "646519c356d73f17",
   "outputs": [
    {
     "name": "stdout",
     "output_type": "stream",
     "text": [
      "<class 'pandas.core.frame.DataFrame'>\n",
      "RangeIndex: 4058 entries, 0 to 4057\n",
      "Data columns (total 17 columns):\n",
      " #   Column              Non-Null Count  Dtype   \n",
      "---  ------              --------------  -----   \n",
      " 0   Model Auta          4058 non-null   category\n",
      " 1   Verze modelu        4021 non-null   object  \n",
      " 2   Cena (Kc)           4036 non-null   Int64   \n",
      " 3   Rok registrace      4005 non-null   object  \n",
      " 4   Najezd (km)         3876 non-null   Int64   \n",
      " 5   Stav                4058 non-null   category\n",
      " 6   Vykon (koni)        4036 non-null   Int64   \n",
      " 7   Objem motoru (cm³)  3791 non-null   Int64   \n",
      " 8   Typ paliva          4058 non-null   category\n",
      " 9   Typ prevodovky      4058 non-null   category\n",
      " 10  Typ karoserie       4058 non-null   category\n",
      " 11  Pocet dveri         3903 non-null   Int64   \n",
      " 12  Pocet mist          3893 non-null   Int64   \n",
      " 13  Barva exterieru     3991 non-null   category\n",
      " 14  Metaliza            3991 non-null   object  \n",
      " 15  Adresa prodejce     4030 non-null   object  \n",
      " 16  Nazev prodejce      4058 non-null   object  \n",
      "dtypes: Int64(6), category(6), object(5)\n",
      "memory usage: 399.6+ KB\n",
      "None\n",
      "   Model Auta                    Verze modelu  Cena (Kc) Rok registrace  \\\n",
      "0      Řada 3      318i, Kůže, vyhř. sedadla.      59000           2001   \n",
      "1      Řada 5                    520i 125kW !      59900           2000   \n",
      "2      Řada 3     2,0 320d, Xenon, Digi Klima      56900           2005   \n",
      "3      Řada 5                525 D TOURING AT       4200           2002   \n",
      "4          X5      3.0d, 4X4, Automat, po STK      60000           2004   \n",
      "5      Řada 1          118i / 105 kW / MANUÁL      59900           2007   \n",
      "6      Řada 3            316 TI COMPACT 85 KW      40000           2002   \n",
      "7      Řada 3  1.8 VETERÁN Vada motoru, koroz      29900           1989   \n",
      "8      Řada 3                    318D Touring      39900           2007   \n",
      "9      Řada 3       320d poškozené BEZ MOTORU      24999           2011   \n",
      "10     Řada 3                2,0 320i automat      35000           1993   \n",
      "11     Řada 1   116i, nová STK, jezdí výborně      50000           2007   \n",
      "12     Řada 5     528i automat, EKO uhrazeno!      58000           1998   \n",
      "13     Řada 3     E46 318i 140PS, Manual, Alu      44000           2005   \n",
      "14     Řada 5      2,2 i V6 E39 520i TOURING,      49900           2001   \n",
      "15     Řada 1   116i, nová STK, plně pojízdný      60000           2007   \n",
      "16     Řada 3    320 i, po STK, jezdí výborně      45000           2005   \n",
      "17     Řada 3                318 td, nová STK      50000           2003   \n",
      "18     Řada 3                2,0 318i Touring      59000           2005   \n",
      "19     Řada 3        320i E90 110 kW NOVÁ STK      59900           2006   \n",
      "20     Řada 3       2,0 320D AUTOMAT,NAVIGACE      69900           2004   \n",
      "21     Řada 1        2.0 D 120 D, xenon, kůže      60000           2006   \n",
      "22     Řada 3                    318I Touring      72000           2006   \n",
      "23     Řada 3                2,0 318d Touring      77000           2008   \n",
      "24     Řada 1      i 105kW AT motor na výměnu      75000           2008   \n",
      "\n",
      "    Najezd (km)                 Stav  Vykon (koni)  Objem motoru (cm³)  \\\n",
      "0        244300            neuvedeno           118                1895   \n",
      "1        275001            neuvedeno           170                2171   \n",
      "2        399400            neuvedeno           150                1995   \n",
      "3        315047            neuvedeno           163                2497   \n",
      "4        241700                Dobrý           218                3000   \n",
      "5        155500            neuvedeno           143                1995   \n",
      "6        215000          Velmi dobrý          <NA>                1796   \n",
      "7        235000           Uspokojivý           113                1796   \n",
      "8        559741           Uspokojivý           122                1995   \n",
      "9        281401            neuvedeno           177                1995   \n",
      "10       204520                Dobrý           150                1991   \n",
      "11       198976                Dobrý           116                1600   \n",
      "12       350000                Dobrý           193                2793   \n",
      "13       230470                Dobrý           143                1995   \n",
      "14       310246          Velmi dobrý           170                2171   \n",
      "15       248289                Dobrý           116                1600   \n",
      "16       276485                Dobrý           150                2000   \n",
      "17       344491                Dobrý           116                2000   \n",
      "18       303000                Dobrý           143                1995   \n",
      "19       172949  Způsobilý k provozu           150                1995   \n",
      "20       245379          Velmi dobrý           150                1995   \n",
      "21       273530            neuvedeno           163                1995   \n",
      "22       260001            neuvedeno           129                1995   \n",
      "23       211322                Dobrý           122                1995   \n",
      "24        66501            Perfektní           143                 143   \n",
      "\n",
      "   Typ paliva       Typ prevodovky Typ karoserie  Pocet dveri  Pocet mist  \\\n",
      "0      benzin  manuální převodovka          kupé            2           5   \n",
      "1      benzin  manuální převodovka         kombi            5           5   \n",
      "2       nafta  manuální převodovka         kombi            5           5   \n",
      "3       nafta      aut. převodovka     neuvedeno         <NA>        <NA>   \n",
      "4       nafta      aut. převodovka           SUV            5           5   \n",
      "5      benzin  manuální převodovka     hatchback            5           5   \n",
      "6      benzin  manuální převodovka          kupé            3           5   \n",
      "7      benzin  manuální převodovka         kombi            5           5   \n",
      "8       nafta  manuální převodovka         kombi            5           5   \n",
      "9       nafta  manuální převodovka         sedan            4           5   \n",
      "10     benzin      aut. převodovka         sedan         <NA>        <NA>   \n",
      "11     benzin  manuální převodovka     hatchback            5           5   \n",
      "12     benzin      aut. převodovka         sedan            4           5   \n",
      "13     benzin  manuální převodovka         kombi            5           5   \n",
      "14     benzin  manuální převodovka         kombi            5           5   \n",
      "15     benzin  manuální převodovka     hatchback            5           5   \n",
      "16     benzin  manuální převodovka         sedan            5           5   \n",
      "17      nafta  manuální převodovka     hatchback            3           5   \n",
      "18     benzin  manuální převodovka         kombi            5           5   \n",
      "19     benzin  manuální převodovka         sedan            4           5   \n",
      "20      nafta      aut. převodovka         kombi            5           5   \n",
      "21      nafta  manuální převodovka     hatchback            5           5   \n",
      "22     benzin  manuální převodovka         kombi            5           5   \n",
      "23      nafta  manuální převodovka         kombi            5           5   \n",
      "24     benzin      aut. převodovka     hatchback            3           4   \n",
      "\n",
      "   Barva exterieru Metaliza  \\\n",
      "0            černá     True   \n",
      "1             šedá     True   \n",
      "2            černá    False   \n",
      "3            modrá     True   \n",
      "4           zelená    False   \n",
      "5            modrá     True   \n",
      "6            černá     True   \n",
      "7          červená    False   \n",
      "8            černá    False   \n",
      "9            černá     True   \n",
      "10            bílá    False   \n",
      "11           modrá    False   \n",
      "12   světle zelená    False   \n",
      "13     světle šedá    False   \n",
      "14        stříbrná     True   \n",
      "15            šedá    False   \n",
      "16           černá    False   \n",
      "17          zelená    False   \n",
      "18     světle šedá     True   \n",
      "19        stříbrná    False   \n",
      "20     světle šedá     True   \n",
      "21           černá    False   \n",
      "22           černá    False   \n",
      "23     světle šedá    False   \n",
      "24         červená    False   \n",
      "\n",
      "                                      Adresa prodejce  \\\n",
      "0                 K Solné stezce Říčany u Prahy 25101   \n",
      "1           Malešická 47 Praha 3 Praha 3 Žižkov 13000   \n",
      "2                    Kvítkovická 1527 Napajedla 76361   \n",
      "3                       K Raškovci 1360/V Kolín 28002   \n",
      "4             Dopraváků 874/15 Praha 8 - Čimice 18400   \n",
      "5                       Libeňský ostrov Praha 8 18000   \n",
      "6                           Líšný 2.díl 6 Líšný 46822   \n",
      "7   Československé Armády 71/44 Jablonec nad Nisou...   \n",
      "8            Weilova 1144/2 Praha 10 - Hostivař 10205   \n",
      "9                V Zátiší 71 Průhonice - Rozkoš 25242   \n",
      "10                  Vídeňská 343 Vestec u Prahy 25242   \n",
      "11            Dopraváků 874/15 Praha 8 - Čimice 18400   \n",
      "12                   Dolní Vinice Kly u Mělníka 27741   \n",
      "13               Kolínská 244 Uhlířské Janovice 28504   \n",
      "14  Československé Armády 71/44 Jablonec nad Nisou...   \n",
      "15            Dopraváků 874/15 Praha 8 - Čimice 18400   \n",
      "16            Dopraváků 874/15 Praha 8 - Čimice 18400   \n",
      "17            Dopraváků 874/15 Praha 8 - Čimice 18400   \n",
      "18              Jáchymovská 350/81 Karlovy Vary 36004   \n",
      "19                     Masarykova 412 DOMAŽLICE 34401   \n",
      "20                           Vizovická 442 Zlín 76001   \n",
      "21           K Učilišti 170 Praha 10-Štěrboholy 10200   \n",
      "22          Malešická 47 Praha 3 Praha 3 Žižkov 13000   \n",
      "23                        PRAŽSKÁ 157 PARDUBICE 53006   \n",
      "24        Milady Horákové 1477 České Budějovice 37005   \n",
      "\n",
      "                 Nazev prodejce  \n",
      "0         Autobazar Cars s.r.o.  \n",
      "1                 Autobazar Duo  \n",
      "2        AUTOCAR - TICHÝ s.r.o.  \n",
      "3       Car Aukce, spol. s r.o.  \n",
      "4                      AAA Auto  \n",
      "5              RPD Auto CZ a.s.  \n",
      "6               AUTORENT s.r.o.  \n",
      "7               AUTOHOFI s.r.o.  \n",
      "8    Zdeněk KAPIČKA - auto moto  \n",
      "9                    L72 s.r.o.  \n",
      "10          Auto Rupexim s.r.o.  \n",
      "11                     AAA Auto  \n",
      "12        CM car Červený Michal  \n",
      "13  Autobazar Uhlířské Janovice  \n",
      "14              AUTOHOFI s.r.o.  \n",
      "15                     AAA Auto  \n",
      "16                     AAA Auto  \n",
      "17                     AAA Auto  \n",
      "18               autohlavaty.cz  \n",
      "19                      WP AUTO  \n",
      "20      RADEK DURĎA AUTO s.r.o.  \n",
      "21                     Auto ESA  \n",
      "22                Autobazar Duo  \n",
      "23              AUTOBAZAR BURDA  \n",
      "24                 CB AUTO a.s.  \n"
     ]
    }
   ],
   "execution_count": 1639
  },
  {
   "metadata": {
    "ExecuteTime": {
     "end_time": "2025-03-06T18:32:20.956537Z",
     "start_time": "2025-03-06T18:32:20.954496Z"
    }
   },
   "cell_type": "code",
   "source": "#df.to_csv(\"../data/processed_data/1_data_clearing/cars.csv\", index=False, encoding=\"utf-8\")",
   "id": "6616255648456c47",
   "outputs": [],
   "execution_count": 1640
  }
 ],
 "metadata": {
  "kernelspec": {
   "display_name": "Python 3",
   "language": "python",
   "name": "python3"
  },
  "language_info": {
   "codemirror_mode": {
    "name": "ipython",
    "version": 2
   },
   "file_extension": ".py",
   "mimetype": "text/x-python",
   "name": "python",
   "nbconvert_exporter": "python",
   "pygments_lexer": "ipython2",
   "version": "2.7.6"
  }
 },
 "nbformat": 4,
 "nbformat_minor": 5
}
